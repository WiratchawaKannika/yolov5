{
 "cells": [
  {
   "cell_type": "code",
   "execution_count": 1,
   "id": "44c43947",
   "metadata": {},
   "outputs": [],
   "source": [
    "import json \n",
    "import pandas as pd\n",
    "import numpy as np\n",
    "from pathlib import Path\n",
    "import PIL\n",
    "from PIL import Image\n",
    "import os, time, random\n",
    "import cv2, torch\n",
    "from tqdm.auto import tqdm\n",
    "import shutil as sh\n",
    "\n",
    "from IPython.display import Image, clear_output\n",
    "import matplotlib.pyplot as plt\n",
    "%matplotlib inline"
   ]
  },
  {
   "cell_type": "code",
   "execution_count": 2,
   "id": "a46a44d3",
   "metadata": {},
   "outputs": [],
   "source": [
    "import os\n",
    "os.environ[\"CUDA_VISIBLE_DEVICES\"]=\"0\""
   ]
  },
  {
   "cell_type": "code",
   "execution_count": 3,
   "id": "c0402cdb",
   "metadata": {},
   "outputs": [
    {
     "name": "stdout",
     "output_type": "stream",
     "text": [
      "Setup complete. Using torch 1.8.1+cu111 _CudaDeviceProperties(name='NVIDIA GeForce RTX 2080 Ti', major=7, minor=5, total_memory=11019MB, multi_processor_count=68)\n"
     ]
    }
   ],
   "source": [
    "import torch\n",
    "from IPython.display import Image  # to display images\n",
    "\n",
    "print('Setup complete. Using torch %s %s' % (torch.__version__, torch.cuda.get_device_properties(0) if torch.cuda.is_available() else 'CPU'))"
   ]
  },
  {
   "cell_type": "code",
   "execution_count": 4,
   "id": "2fda71c3",
   "metadata": {},
   "outputs": [],
   "source": [
    "## work on yolov5 directory\n",
    "os.chdir('/home/kannika/yolov5/')"
   ]
  },
  {
   "cell_type": "code",
   "execution_count": 5,
   "id": "5acc9b3a",
   "metadata": {},
   "outputs": [
    {
     "name": "stdout",
     "output_type": "stream",
     "text": [
      "/home/kannika/yolov5\r\n"
     ]
    }
   ],
   "source": [
    "!pwd"
   ]
  },
  {
   "cell_type": "markdown",
   "id": "09bd38d3",
   "metadata": {},
   "source": [
    "> ## Predict with Confident ScoreThr == 0.0 - 1.0"
   ]
  },
  {
   "cell_type": "code",
   "execution_count": 7,
   "id": "a77b93f3",
   "metadata": {},
   "outputs": [
    {
     "name": "stdout",
     "output_type": "stream",
     "text": [
      "\u001b[34m\u001b[1mdetect: \u001b[0mweights=['/media/tohn/HDD/ProjectHip/ForDetection/YOLOv5smodels/R2/weights/ModelYoloV5s_CropHipleft_last.pt'], source=/media/tohn/HDD/ProjectHip/ForDetection/Boxtensorflow/images/test, imgsz=[640, 640], conf_thres=0.0, iou_thres=0.5, max_det=10, device=0, view_img=False, save_txt=True, save_conf=True, save_crop=True, nosave=False, classes=None, agnostic_nms=False, augment=False, visualize=False, update=False, project=/media/tohn/HDD/ProjectHip/ForDetection/YOLOv5sInference/R2, name=PCI0, exist_ok=False, line_thickness=3, hide_labels=False, hide_conf=False, half=False, dnn=False\n",
      "YOLOv5 🚀 v6.0-149-ga4e41a9 torch 1.8.1+cu111 CUDA:0 (NVIDIA GeForce RTX 2080 Ti, 11020MiB)\n",
      "\n",
      "Fusing layers... \n",
      "Model Summary: 213 layers, 7012822 parameters, 0 gradients, 15.8 GFLOPs\n",
      "image 1/9 /media/tohn/HDD/ProjectHip/ForDetection/Boxtensorflow/images/test/PN001910.jpg: 640x640 10 lefts, Done. (0.007s)\n",
      "image 2/9 /media/tohn/HDD/ProjectHip/ForDetection/Boxtensorflow/images/test/PN048704.jpg: 640x640 10 lefts, Done. (0.007s)\n",
      "image 3/9 /media/tohn/HDD/ProjectHip/ForDetection/Boxtensorflow/images/test/PN048705.jpg: 640x640 10 lefts, Done. (0.007s)\n",
      "image 4/9 /media/tohn/HDD/ProjectHip/ForDetection/Boxtensorflow/images/test/PN055701.jpg: 640x640 10 lefts, Done. (0.007s)\n",
      "image 5/9 /media/tohn/HDD/ProjectHip/ForDetection/Boxtensorflow/images/test/PN059606.jpg: 640x640 10 lefts, Done. (0.007s)\n",
      "image 6/9 /media/tohn/HDD/ProjectHip/ForDetection/Boxtensorflow/images/test/PN060404.jpg: 640x640 10 lefts, Done. (0.007s)\n",
      "image 7/9 /media/tohn/HDD/ProjectHip/ForDetection/Boxtensorflow/images/test/PN067701.jpg: 640x640 10 lefts, Done. (0.007s)\n",
      "image 8/9 /media/tohn/HDD/ProjectHip/ForDetection/Boxtensorflow/images/test/PN072701.jpg: 640x640 10 lefts, Done. (0.007s)\n",
      "image 9/9 /media/tohn/HDD/ProjectHip/ForDetection/Boxtensorflow/images/test/PN088301.jpg: 640x640 10 lefts, Done. (0.007s)\n",
      "Speed: 0.3ms pre-process, 7.0ms inference, 39.7ms NMS per image at shape (1, 3, 640, 640)\n",
      "Results saved to \u001b[1m/media/tohn/HDD/ProjectHip/ForDetection/YOLOv5sInference/R2/PCI0\u001b[0m\n",
      "9 labels saved to /media/tohn/HDD/ProjectHip/ForDetection/YOLOv5sInference/R2/PCI0/labels\n",
      "\u001b[34m\u001b[1mdetect: \u001b[0mweights=['/media/tohn/HDD/ProjectHip/ForDetection/YOLOv5smodels/R2/weights/ModelYoloV5s_CropHipleft_last.pt'], source=/media/tohn/HDD/ProjectHip/ForDetection/Boxtensorflow/images/test, imgsz=[640, 640], conf_thres=0.1, iou_thres=0.5, max_det=10, device=0, view_img=False, save_txt=True, save_conf=True, save_crop=True, nosave=False, classes=None, agnostic_nms=False, augment=False, visualize=False, update=False, project=/media/tohn/HDD/ProjectHip/ForDetection/YOLOv5sInference/R2, name=PCI01, exist_ok=False, line_thickness=3, hide_labels=False, hide_conf=False, half=False, dnn=False\n",
      "YOLOv5 🚀 v6.0-149-ga4e41a9 torch 1.8.1+cu111 CUDA:0 (NVIDIA GeForce RTX 2080 Ti, 11020MiB)\n",
      "\n",
      "Fusing layers... \n",
      "Model Summary: 213 layers, 7012822 parameters, 0 gradients, 15.8 GFLOPs\n",
      "image 1/9 /media/tohn/HDD/ProjectHip/ForDetection/Boxtensorflow/images/test/PN001910.jpg: 640x640 Done. (0.007s)\n",
      "image 2/9 /media/tohn/HDD/ProjectHip/ForDetection/Boxtensorflow/images/test/PN048704.jpg: 640x640 1 left, Done. (0.007s)\n",
      "image 3/9 /media/tohn/HDD/ProjectHip/ForDetection/Boxtensorflow/images/test/PN048705.jpg: 640x640 1 left, Done. (0.007s)\n",
      "image 4/9 /media/tohn/HDD/ProjectHip/ForDetection/Boxtensorflow/images/test/PN055701.jpg: 640x640 1 left, Done. (0.007s)\n",
      "image 5/9 /media/tohn/HDD/ProjectHip/ForDetection/Boxtensorflow/images/test/PN059606.jpg: 640x640 1 left, Done. (0.007s)\n",
      "image 6/9 /media/tohn/HDD/ProjectHip/ForDetection/Boxtensorflow/images/test/PN060404.jpg: 640x640 1 left, Done. (0.007s)\n",
      "image 7/9 /media/tohn/HDD/ProjectHip/ForDetection/Boxtensorflow/images/test/PN067701.jpg: 640x640 Done. (0.007s)\n",
      "image 8/9 /media/tohn/HDD/ProjectHip/ForDetection/Boxtensorflow/images/test/PN072701.jpg: 640x640 2 lefts, Done. (0.007s)\n",
      "image 9/9 /media/tohn/HDD/ProjectHip/ForDetection/Boxtensorflow/images/test/PN088301.jpg: 640x640 2 lefts, Done. (0.007s)\n",
      "Speed: 0.3ms pre-process, 6.9ms inference, 0.5ms NMS per image at shape (1, 3, 640, 640)\n",
      "Results saved to \u001b[1m/media/tohn/HDD/ProjectHip/ForDetection/YOLOv5sInference/R2/PCI01\u001b[0m\n",
      "7 labels saved to /media/tohn/HDD/ProjectHip/ForDetection/YOLOv5sInference/R2/PCI01/labels\n",
      "\u001b[34m\u001b[1mdetect: \u001b[0mweights=['/media/tohn/HDD/ProjectHip/ForDetection/YOLOv5smodels/R2/weights/ModelYoloV5s_CropHipleft_last.pt'], source=/media/tohn/HDD/ProjectHip/ForDetection/Boxtensorflow/images/test, imgsz=[640, 640], conf_thres=0.2, iou_thres=0.5, max_det=10, device=0, view_img=False, save_txt=True, save_conf=True, save_crop=True, nosave=False, classes=None, agnostic_nms=False, augment=False, visualize=False, update=False, project=/media/tohn/HDD/ProjectHip/ForDetection/YOLOv5sInference/R2, name=PCI02, exist_ok=False, line_thickness=3, hide_labels=False, hide_conf=False, half=False, dnn=False\n",
      "YOLOv5 🚀 v6.0-149-ga4e41a9 torch 1.8.1+cu111 CUDA:0 (NVIDIA GeForce RTX 2080 Ti, 11020MiB)\n",
      "\n",
      "Fusing layers... \n",
      "Model Summary: 213 layers, 7012822 parameters, 0 gradients, 15.8 GFLOPs\n",
      "image 1/9 /media/tohn/HDD/ProjectHip/ForDetection/Boxtensorflow/images/test/PN001910.jpg: 640x640 Done. (0.007s)\n",
      "image 2/9 /media/tohn/HDD/ProjectHip/ForDetection/Boxtensorflow/images/test/PN048704.jpg: 640x640 Done. (0.007s)\n",
      "image 3/9 /media/tohn/HDD/ProjectHip/ForDetection/Boxtensorflow/images/test/PN048705.jpg: 640x640 Done. (0.007s)\n",
      "image 4/9 /media/tohn/HDD/ProjectHip/ForDetection/Boxtensorflow/images/test/PN055701.jpg: 640x640 Done. (0.007s)\n",
      "image 5/9 /media/tohn/HDD/ProjectHip/ForDetection/Boxtensorflow/images/test/PN059606.jpg: 640x640 Done. (0.007s)\n",
      "image 6/9 /media/tohn/HDD/ProjectHip/ForDetection/Boxtensorflow/images/test/PN060404.jpg: 640x640 Done. (0.007s)\n",
      "image 7/9 /media/tohn/HDD/ProjectHip/ForDetection/Boxtensorflow/images/test/PN067701.jpg: 640x640 Done. (0.007s)\n",
      "image 8/9 /media/tohn/HDD/ProjectHip/ForDetection/Boxtensorflow/images/test/PN072701.jpg: 640x640 Done. (0.007s)\n",
      "image 9/9 /media/tohn/HDD/ProjectHip/ForDetection/Boxtensorflow/images/test/PN088301.jpg: 640x640 Done. (0.007s)\n",
      "Speed: 0.3ms pre-process, 6.8ms inference, 0.1ms NMS per image at shape (1, 3, 640, 640)\n",
      "Results saved to \u001b[1m/media/tohn/HDD/ProjectHip/ForDetection/YOLOv5sInference/R2/PCI02\u001b[0m\n",
      "0 labels saved to /media/tohn/HDD/ProjectHip/ForDetection/YOLOv5sInference/R2/PCI02/labels\n",
      "\u001b[34m\u001b[1mdetect: \u001b[0mweights=['/media/tohn/HDD/ProjectHip/ForDetection/YOLOv5smodels/R2/weights/ModelYoloV5s_CropHipleft_last.pt'], source=/media/tohn/HDD/ProjectHip/ForDetection/Boxtensorflow/images/test, imgsz=[640, 640], conf_thres=0.3, iou_thres=0.5, max_det=10, device=0, view_img=False, save_txt=True, save_conf=True, save_crop=True, nosave=False, classes=None, agnostic_nms=False, augment=False, visualize=False, update=False, project=/media/tohn/HDD/ProjectHip/ForDetection/YOLOv5sInference/R2, name=PCI03, exist_ok=False, line_thickness=3, hide_labels=False, hide_conf=False, half=False, dnn=False\n",
      "YOLOv5 🚀 v6.0-149-ga4e41a9 torch 1.8.1+cu111 CUDA:0 (NVIDIA GeForce RTX 2080 Ti, 11020MiB)\n",
      "\n",
      "Fusing layers... \n",
      "Model Summary: 213 layers, 7012822 parameters, 0 gradients, 15.8 GFLOPs\n",
      "image 1/9 /media/tohn/HDD/ProjectHip/ForDetection/Boxtensorflow/images/test/PN001910.jpg: 640x640 Done. (0.007s)\n",
      "image 2/9 /media/tohn/HDD/ProjectHip/ForDetection/Boxtensorflow/images/test/PN048704.jpg: 640x640 Done. (0.007s)\n",
      "image 3/9 /media/tohn/HDD/ProjectHip/ForDetection/Boxtensorflow/images/test/PN048705.jpg: 640x640 Done. (0.007s)\n",
      "image 4/9 /media/tohn/HDD/ProjectHip/ForDetection/Boxtensorflow/images/test/PN055701.jpg: 640x640 Done. (0.007s)\n",
      "image 5/9 /media/tohn/HDD/ProjectHip/ForDetection/Boxtensorflow/images/test/PN059606.jpg: 640x640 Done. (0.007s)\n",
      "image 6/9 /media/tohn/HDD/ProjectHip/ForDetection/Boxtensorflow/images/test/PN060404.jpg: 640x640 Done. (0.007s)\n",
      "image 7/9 /media/tohn/HDD/ProjectHip/ForDetection/Boxtensorflow/images/test/PN067701.jpg: 640x640 Done. (0.007s)\n",
      "image 8/9 /media/tohn/HDD/ProjectHip/ForDetection/Boxtensorflow/images/test/PN072701.jpg: 640x640 Done. (0.007s)\n",
      "image 9/9 /media/tohn/HDD/ProjectHip/ForDetection/Boxtensorflow/images/test/PN088301.jpg: 640x640 Done. (0.007s)\n",
      "Speed: 0.3ms pre-process, 6.8ms inference, 0.1ms NMS per image at shape (1, 3, 640, 640)\n",
      "Results saved to \u001b[1m/media/tohn/HDD/ProjectHip/ForDetection/YOLOv5sInference/R2/PCI03\u001b[0m\n",
      "0 labels saved to /media/tohn/HDD/ProjectHip/ForDetection/YOLOv5sInference/R2/PCI03/labels\n"
     ]
    },
    {
     "name": "stdout",
     "output_type": "stream",
     "text": [
      "\u001b[34m\u001b[1mdetect: \u001b[0mweights=['/media/tohn/HDD/ProjectHip/ForDetection/YOLOv5smodels/R2/weights/ModelYoloV5s_CropHipleft_last.pt'], source=/media/tohn/HDD/ProjectHip/ForDetection/Boxtensorflow/images/test, imgsz=[640, 640], conf_thres=0.4, iou_thres=0.5, max_det=10, device=0, view_img=False, save_txt=True, save_conf=True, save_crop=True, nosave=False, classes=None, agnostic_nms=False, augment=False, visualize=False, update=False, project=/media/tohn/HDD/ProjectHip/ForDetection/YOLOv5sInference/R2, name=PCI04, exist_ok=False, line_thickness=3, hide_labels=False, hide_conf=False, half=False, dnn=False\n",
      "YOLOv5 🚀 v6.0-149-ga4e41a9 torch 1.8.1+cu111 CUDA:0 (NVIDIA GeForce RTX 2080 Ti, 11020MiB)\n",
      "\n",
      "Fusing layers... \n",
      "Model Summary: 213 layers, 7012822 parameters, 0 gradients, 15.8 GFLOPs\n",
      "image 1/9 /media/tohn/HDD/ProjectHip/ForDetection/Boxtensorflow/images/test/PN001910.jpg: 640x640 Done. (0.007s)\n",
      "image 2/9 /media/tohn/HDD/ProjectHip/ForDetection/Boxtensorflow/images/test/PN048704.jpg: 640x640 Done. (0.007s)\n",
      "image 3/9 /media/tohn/HDD/ProjectHip/ForDetection/Boxtensorflow/images/test/PN048705.jpg: 640x640 Done. (0.007s)\n",
      "image 4/9 /media/tohn/HDD/ProjectHip/ForDetection/Boxtensorflow/images/test/PN055701.jpg: 640x640 Done. (0.007s)\n",
      "image 5/9 /media/tohn/HDD/ProjectHip/ForDetection/Boxtensorflow/images/test/PN059606.jpg: 640x640 Done. (0.007s)\n",
      "image 6/9 /media/tohn/HDD/ProjectHip/ForDetection/Boxtensorflow/images/test/PN060404.jpg: 640x640 Done. (0.007s)\n",
      "image 7/9 /media/tohn/HDD/ProjectHip/ForDetection/Boxtensorflow/images/test/PN067701.jpg: 640x640 Done. (0.007s)\n",
      "image 8/9 /media/tohn/HDD/ProjectHip/ForDetection/Boxtensorflow/images/test/PN072701.jpg: 640x640 Done. (0.007s)\n",
      "image 9/9 /media/tohn/HDD/ProjectHip/ForDetection/Boxtensorflow/images/test/PN088301.jpg: 640x640 Done. (0.007s)\n",
      "Speed: 0.3ms pre-process, 6.8ms inference, 0.1ms NMS per image at shape (1, 3, 640, 640)\n",
      "Results saved to \u001b[1m/media/tohn/HDD/ProjectHip/ForDetection/YOLOv5sInference/R2/PCI04\u001b[0m\n",
      "0 labels saved to /media/tohn/HDD/ProjectHip/ForDetection/YOLOv5sInference/R2/PCI04/labels\n",
      "\u001b[34m\u001b[1mdetect: \u001b[0mweights=['/media/tohn/HDD/ProjectHip/ForDetection/YOLOv5smodels/R2/weights/ModelYoloV5s_CropHipleft_last.pt'], source=/media/tohn/HDD/ProjectHip/ForDetection/Boxtensorflow/images/test, imgsz=[640, 640], conf_thres=0.5, iou_thres=0.5, max_det=10, device=0, view_img=False, save_txt=True, save_conf=True, save_crop=True, nosave=False, classes=None, agnostic_nms=False, augment=False, visualize=False, update=False, project=/media/tohn/HDD/ProjectHip/ForDetection/YOLOv5sInference/R2, name=PCI05, exist_ok=False, line_thickness=3, hide_labels=False, hide_conf=False, half=False, dnn=False\n",
      "YOLOv5 🚀 v6.0-149-ga4e41a9 torch 1.8.1+cu111 CUDA:0 (NVIDIA GeForce RTX 2080 Ti, 11020MiB)\n",
      "\n",
      "Fusing layers... \n",
      "Model Summary: 213 layers, 7012822 parameters, 0 gradients, 15.8 GFLOPs\n",
      "image 1/9 /media/tohn/HDD/ProjectHip/ForDetection/Boxtensorflow/images/test/PN001910.jpg: 640x640 Done. (0.007s)\n",
      "image 2/9 /media/tohn/HDD/ProjectHip/ForDetection/Boxtensorflow/images/test/PN048704.jpg: 640x640 Done. (0.007s)\n",
      "image 3/9 /media/tohn/HDD/ProjectHip/ForDetection/Boxtensorflow/images/test/PN048705.jpg: 640x640 Done. (0.007s)\n",
      "image 4/9 /media/tohn/HDD/ProjectHip/ForDetection/Boxtensorflow/images/test/PN055701.jpg: 640x640 Done. (0.007s)\n",
      "image 5/9 /media/tohn/HDD/ProjectHip/ForDetection/Boxtensorflow/images/test/PN059606.jpg: 640x640 Done. (0.007s)\n",
      "image 6/9 /media/tohn/HDD/ProjectHip/ForDetection/Boxtensorflow/images/test/PN060404.jpg: 640x640 Done. (0.007s)\n",
      "image 7/9 /media/tohn/HDD/ProjectHip/ForDetection/Boxtensorflow/images/test/PN067701.jpg: 640x640 Done. (0.007s)\n",
      "image 8/9 /media/tohn/HDD/ProjectHip/ForDetection/Boxtensorflow/images/test/PN072701.jpg: 640x640 Done. (0.007s)\n",
      "image 9/9 /media/tohn/HDD/ProjectHip/ForDetection/Boxtensorflow/images/test/PN088301.jpg: 640x640 Done. (0.007s)\n",
      "Speed: 0.3ms pre-process, 6.9ms inference, 0.1ms NMS per image at shape (1, 3, 640, 640)\n",
      "Results saved to \u001b[1m/media/tohn/HDD/ProjectHip/ForDetection/YOLOv5sInference/R2/PCI05\u001b[0m\n",
      "0 labels saved to /media/tohn/HDD/ProjectHip/ForDetection/YOLOv5sInference/R2/PCI05/labels\n",
      "\u001b[34m\u001b[1mdetect: \u001b[0mweights=['/media/tohn/HDD/ProjectHip/ForDetection/YOLOv5smodels/R2/weights/ModelYoloV5s_CropHipleft_last.pt'], source=/media/tohn/HDD/ProjectHip/ForDetection/Boxtensorflow/images/test, imgsz=[640, 640], conf_thres=0.6, iou_thres=0.5, max_det=10, device=0, view_img=False, save_txt=True, save_conf=True, save_crop=True, nosave=False, classes=None, agnostic_nms=False, augment=False, visualize=False, update=False, project=/media/tohn/HDD/ProjectHip/ForDetection/YOLOv5sInference/R2, name=PCI06, exist_ok=False, line_thickness=3, hide_labels=False, hide_conf=False, half=False, dnn=False\n",
      "YOLOv5 🚀 v6.0-149-ga4e41a9 torch 1.8.1+cu111 CUDA:0 (NVIDIA GeForce RTX 2080 Ti, 11020MiB)\n",
      "\n",
      "Fusing layers... \n",
      "Model Summary: 213 layers, 7012822 parameters, 0 gradients, 15.8 GFLOPs\n",
      "image 1/9 /media/tohn/HDD/ProjectHip/ForDetection/Boxtensorflow/images/test/PN001910.jpg: 640x640 Done. (0.007s)\n",
      "image 2/9 /media/tohn/HDD/ProjectHip/ForDetection/Boxtensorflow/images/test/PN048704.jpg: 640x640 Done. (0.007s)\n",
      "image 3/9 /media/tohn/HDD/ProjectHip/ForDetection/Boxtensorflow/images/test/PN048705.jpg: 640x640 Done. (0.007s)\n",
      "image 4/9 /media/tohn/HDD/ProjectHip/ForDetection/Boxtensorflow/images/test/PN055701.jpg: 640x640 Done. (0.007s)\n",
      "image 5/9 /media/tohn/HDD/ProjectHip/ForDetection/Boxtensorflow/images/test/PN059606.jpg: 640x640 Done. (0.007s)\n",
      "image 6/9 /media/tohn/HDD/ProjectHip/ForDetection/Boxtensorflow/images/test/PN060404.jpg: 640x640 Done. (0.007s)\n",
      "image 7/9 /media/tohn/HDD/ProjectHip/ForDetection/Boxtensorflow/images/test/PN067701.jpg: 640x640 Done. (0.007s)\n",
      "image 8/9 /media/tohn/HDD/ProjectHip/ForDetection/Boxtensorflow/images/test/PN072701.jpg: 640x640 Done. (0.007s)\n",
      "image 9/9 /media/tohn/HDD/ProjectHip/ForDetection/Boxtensorflow/images/test/PN088301.jpg: 640x640 Done. (0.007s)\n",
      "Speed: 0.3ms pre-process, 6.8ms inference, 0.1ms NMS per image at shape (1, 3, 640, 640)\n",
      "Results saved to \u001b[1m/media/tohn/HDD/ProjectHip/ForDetection/YOLOv5sInference/R2/PCI06\u001b[0m\n",
      "0 labels saved to /media/tohn/HDD/ProjectHip/ForDetection/YOLOv5sInference/R2/PCI06/labels\n",
      "\u001b[34m\u001b[1mdetect: \u001b[0mweights=['/media/tohn/HDD/ProjectHip/ForDetection/YOLOv5smodels/R2/weights/ModelYoloV5s_CropHipleft_last.pt'], source=/media/tohn/HDD/ProjectHip/ForDetection/Boxtensorflow/images/test, imgsz=[640, 640], conf_thres=0.7, iou_thres=0.5, max_det=10, device=0, view_img=False, save_txt=True, save_conf=True, save_crop=True, nosave=False, classes=None, agnostic_nms=False, augment=False, visualize=False, update=False, project=/media/tohn/HDD/ProjectHip/ForDetection/YOLOv5sInference/R2, name=PCI07, exist_ok=False, line_thickness=3, hide_labels=False, hide_conf=False, half=False, dnn=False\n",
      "YOLOv5 🚀 v6.0-149-ga4e41a9 torch 1.8.1+cu111 CUDA:0 (NVIDIA GeForce RTX 2080 Ti, 11020MiB)\n",
      "\n",
      "Fusing layers... \n",
      "Model Summary: 213 layers, 7012822 parameters, 0 gradients, 15.8 GFLOPs\n",
      "image 1/9 /media/tohn/HDD/ProjectHip/ForDetection/Boxtensorflow/images/test/PN001910.jpg: 640x640 Done. (0.007s)\n",
      "image 2/9 /media/tohn/HDD/ProjectHip/ForDetection/Boxtensorflow/images/test/PN048704.jpg: 640x640 Done. (0.007s)\n",
      "image 3/9 /media/tohn/HDD/ProjectHip/ForDetection/Boxtensorflow/images/test/PN048705.jpg: 640x640 Done. (0.007s)\n",
      "image 4/9 /media/tohn/HDD/ProjectHip/ForDetection/Boxtensorflow/images/test/PN055701.jpg: 640x640 Done. (0.007s)\n",
      "image 5/9 /media/tohn/HDD/ProjectHip/ForDetection/Boxtensorflow/images/test/PN059606.jpg: 640x640 Done. (0.007s)\n",
      "image 6/9 /media/tohn/HDD/ProjectHip/ForDetection/Boxtensorflow/images/test/PN060404.jpg: 640x640 Done. (0.007s)\n",
      "image 7/9 /media/tohn/HDD/ProjectHip/ForDetection/Boxtensorflow/images/test/PN067701.jpg: 640x640 Done. (0.007s)\n",
      "image 8/9 /media/tohn/HDD/ProjectHip/ForDetection/Boxtensorflow/images/test/PN072701.jpg: 640x640 Done. (0.007s)\n",
      "image 9/9 /media/tohn/HDD/ProjectHip/ForDetection/Boxtensorflow/images/test/PN088301.jpg: 640x640 Done. (0.007s)\n",
      "Speed: 0.3ms pre-process, 6.8ms inference, 0.1ms NMS per image at shape (1, 3, 640, 640)\n",
      "Results saved to \u001b[1m/media/tohn/HDD/ProjectHip/ForDetection/YOLOv5sInference/R2/PCI07\u001b[0m\n",
      "0 labels saved to /media/tohn/HDD/ProjectHip/ForDetection/YOLOv5sInference/R2/PCI07/labels\n"
     ]
    },
    {
     "name": "stdout",
     "output_type": "stream",
     "text": [
      "\u001b[34m\u001b[1mdetect: \u001b[0mweights=['/media/tohn/HDD/ProjectHip/ForDetection/YOLOv5smodels/R2/weights/ModelYoloV5s_CropHipleft_last.pt'], source=/media/tohn/HDD/ProjectHip/ForDetection/Boxtensorflow/images/test, imgsz=[640, 640], conf_thres=0.8, iou_thres=0.5, max_det=10, device=0, view_img=False, save_txt=True, save_conf=True, save_crop=True, nosave=False, classes=None, agnostic_nms=False, augment=False, visualize=False, update=False, project=/media/tohn/HDD/ProjectHip/ForDetection/YOLOv5sInference/R2, name=PCI08, exist_ok=False, line_thickness=3, hide_labels=False, hide_conf=False, half=False, dnn=False\n",
      "YOLOv5 🚀 v6.0-149-ga4e41a9 torch 1.8.1+cu111 CUDA:0 (NVIDIA GeForce RTX 2080 Ti, 11020MiB)\n",
      "\n",
      "Fusing layers... \n",
      "Model Summary: 213 layers, 7012822 parameters, 0 gradients, 15.8 GFLOPs\n",
      "image 1/9 /media/tohn/HDD/ProjectHip/ForDetection/Boxtensorflow/images/test/PN001910.jpg: 640x640 Done. (0.007s)\n",
      "image 2/9 /media/tohn/HDD/ProjectHip/ForDetection/Boxtensorflow/images/test/PN048704.jpg: 640x640 Done. (0.007s)\n",
      "image 3/9 /media/tohn/HDD/ProjectHip/ForDetection/Boxtensorflow/images/test/PN048705.jpg: 640x640 Done. (0.007s)\n",
      "image 4/9 /media/tohn/HDD/ProjectHip/ForDetection/Boxtensorflow/images/test/PN055701.jpg: 640x640 Done. (0.007s)\n",
      "image 5/9 /media/tohn/HDD/ProjectHip/ForDetection/Boxtensorflow/images/test/PN059606.jpg: 640x640 Done. (0.007s)\n",
      "image 6/9 /media/tohn/HDD/ProjectHip/ForDetection/Boxtensorflow/images/test/PN060404.jpg: 640x640 Done. (0.007s)\n",
      "image 7/9 /media/tohn/HDD/ProjectHip/ForDetection/Boxtensorflow/images/test/PN067701.jpg: 640x640 Done. (0.007s)\n",
      "image 8/9 /media/tohn/HDD/ProjectHip/ForDetection/Boxtensorflow/images/test/PN072701.jpg: 640x640 Done. (0.007s)\n",
      "image 9/9 /media/tohn/HDD/ProjectHip/ForDetection/Boxtensorflow/images/test/PN088301.jpg: 640x640 Done. (0.007s)\n",
      "Speed: 0.3ms pre-process, 6.9ms inference, 0.1ms NMS per image at shape (1, 3, 640, 640)\n",
      "Results saved to \u001b[1m/media/tohn/HDD/ProjectHip/ForDetection/YOLOv5sInference/R2/PCI08\u001b[0m\n",
      "0 labels saved to /media/tohn/HDD/ProjectHip/ForDetection/YOLOv5sInference/R2/PCI08/labels\n",
      "\u001b[34m\u001b[1mdetect: \u001b[0mweights=['/media/tohn/HDD/ProjectHip/ForDetection/YOLOv5smodels/R2/weights/ModelYoloV5s_CropHipleft_last.pt'], source=/media/tohn/HDD/ProjectHip/ForDetection/Boxtensorflow/images/test, imgsz=[640, 640], conf_thres=0.9, iou_thres=0.5, max_det=10, device=0, view_img=False, save_txt=True, save_conf=True, save_crop=True, nosave=False, classes=None, agnostic_nms=False, augment=False, visualize=False, update=False, project=/media/tohn/HDD/ProjectHip/ForDetection/YOLOv5sInference/R2, name=PCI09, exist_ok=False, line_thickness=3, hide_labels=False, hide_conf=False, half=False, dnn=False\n",
      "YOLOv5 🚀 v6.0-149-ga4e41a9 torch 1.8.1+cu111 CUDA:0 (NVIDIA GeForce RTX 2080 Ti, 11020MiB)\n",
      "\n",
      "Fusing layers... \n",
      "Model Summary: 213 layers, 7012822 parameters, 0 gradients, 15.8 GFLOPs\n",
      "image 1/9 /media/tohn/HDD/ProjectHip/ForDetection/Boxtensorflow/images/test/PN001910.jpg: 640x640 Done. (0.007s)\n",
      "image 2/9 /media/tohn/HDD/ProjectHip/ForDetection/Boxtensorflow/images/test/PN048704.jpg: 640x640 Done. (0.007s)\n",
      "image 3/9 /media/tohn/HDD/ProjectHip/ForDetection/Boxtensorflow/images/test/PN048705.jpg: 640x640 Done. (0.007s)\n",
      "image 4/9 /media/tohn/HDD/ProjectHip/ForDetection/Boxtensorflow/images/test/PN055701.jpg: 640x640 Done. (0.007s)\n",
      "image 5/9 /media/tohn/HDD/ProjectHip/ForDetection/Boxtensorflow/images/test/PN059606.jpg: 640x640 Done. (0.007s)\n",
      "image 6/9 /media/tohn/HDD/ProjectHip/ForDetection/Boxtensorflow/images/test/PN060404.jpg: 640x640 Done. (0.007s)\n",
      "image 7/9 /media/tohn/HDD/ProjectHip/ForDetection/Boxtensorflow/images/test/PN067701.jpg: 640x640 Done. (0.007s)\n",
      "image 8/9 /media/tohn/HDD/ProjectHip/ForDetection/Boxtensorflow/images/test/PN072701.jpg: 640x640 Done. (0.007s)\n",
      "image 9/9 /media/tohn/HDD/ProjectHip/ForDetection/Boxtensorflow/images/test/PN088301.jpg: 640x640 Done. (0.007s)\n",
      "Speed: 0.3ms pre-process, 6.8ms inference, 0.1ms NMS per image at shape (1, 3, 640, 640)\n",
      "Results saved to \u001b[1m/media/tohn/HDD/ProjectHip/ForDetection/YOLOv5sInference/R2/PCI09\u001b[0m\n",
      "0 labels saved to /media/tohn/HDD/ProjectHip/ForDetection/YOLOv5sInference/R2/PCI09/labels\n"
     ]
    }
   ],
   "source": [
    "###  --iou-thres 0.45 **** -------------Seting -------****\n",
    "## test set 5 Images\n",
    "threshold_score = [0.0,0.1,0.2,0.3,0.4,0.5,0.6,0.7,0.8,0.9]\n",
    "name = ['0','01','02','03','04','05','06','07','08','09']\n",
    "for i, j in zip(threshold_score, name):\n",
    "    !python detect.py --weights /media/tohn/HDD/ProjectHip/ForDetection/YOLOv5smodels/R2/weights/ModelYoloV5s_CropHipleft_last.pt --img 640  --max-det 10 --source /media/tohn/HDD/ProjectHip/ForDetection/Boxtensorflow/images/test --iou-thres 0.50 --conf-thres {i} --device 0 --save-txt --save-conf --save-crop --project /media/tohn/HDD/ProjectHip/ForDetection/YOLOv5sInference/R2 --name PCI{j}"
   ]
  },
  {
   "cell_type": "code",
   "execution_count": null,
   "id": "990c05ba",
   "metadata": {},
   "outputs": [],
   "source": []
  },
  {
   "cell_type": "code",
   "execution_count": null,
   "id": "9d428ace",
   "metadata": {},
   "outputs": [],
   "source": []
  },
  {
   "cell_type": "code",
   "execution_count": null,
   "id": "ef8a88bd",
   "metadata": {},
   "outputs": [],
   "source": []
  },
  {
   "cell_type": "code",
   "execution_count": null,
   "id": "741463d4",
   "metadata": {},
   "outputs": [],
   "source": []
  },
  {
   "cell_type": "code",
   "execution_count": null,
   "id": "a35749c3",
   "metadata": {},
   "outputs": [],
   "source": []
  },
  {
   "cell_type": "code",
   "execution_count": null,
   "id": "8399d144",
   "metadata": {},
   "outputs": [],
   "source": []
  },
  {
   "cell_type": "code",
   "execution_count": null,
   "id": "6109cc44",
   "metadata": {},
   "outputs": [],
   "source": []
  }
 ],
 "metadata": {
  "kernelspec": {
   "display_name": "yolov5",
   "language": "python",
   "name": "yolov5"
  },
  "language_info": {
   "codemirror_mode": {
    "name": "ipython",
    "version": 3
   },
   "file_extension": ".py",
   "mimetype": "text/x-python",
   "name": "python",
   "nbconvert_exporter": "python",
   "pygments_lexer": "ipython3",
   "version": "3.8.13"
  }
 },
 "nbformat": 4,
 "nbformat_minor": 5
}
