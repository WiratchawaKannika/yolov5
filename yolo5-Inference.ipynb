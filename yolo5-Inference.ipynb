{
 "cells": [
  {
   "cell_type": "code",
   "execution_count": 1,
   "id": "3607f48f",
   "metadata": {},
   "outputs": [],
   "source": [
    "# import torch\n",
    "\n",
    "# # Model\n",
    "# #model = torch.hub.load('ultralytics/yolov5', 'yolov5s', force_reload=True)\n",
    "# model = torch.hub.load('ultralytics/yolov5', 'yolov5s', device='cpu')  # load on CPU\n",
    "\n",
    "# # Image\n",
    "# img = 'https://ultralytics.com/images/zidane.jpg'\n",
    "\n",
    "# # Inference\n",
    "# results = model(img)"
   ]
  },
  {
   "cell_type": "code",
   "execution_count": 2,
   "id": "33319f0d",
   "metadata": {},
   "outputs": [],
   "source": [
    "#results.pandas().xyxy[0]"
   ]
  },
  {
   "cell_type": "markdown",
   "id": "4f3a945f",
   "metadata": {},
   "source": [
    "#  Inference YOLOv5 Using PyTorch Hub"
   ]
  },
  {
   "cell_type": "code",
   "execution_count": 6,
   "id": "4742163d",
   "metadata": {},
   "outputs": [],
   "source": [
    "# import pandas as pd\n",
    "\n",
    "# df = pd.read_csv('/home/kannika/file/USAIFanDetect_custom_test.csv') \n",
    "# print(df.shape)\n",
    "# df.head()"
   ]
  },
  {
   "cell_type": "code",
   "execution_count": 6,
   "id": "f9b56f50",
   "metadata": {},
   "outputs": [
    {
     "name": "stderr",
     "output_type": "stream",
     "text": [
      "YOLOv5 🚀 v6.0-147-g0f33f25 torch 1.8.2+cpu CPU\n",
      "\n",
      "Fusing layers... \n",
      "Model Summary: 213 layers, 7012822 parameters, 0 gradients, 15.8 GFLOPs\n",
      "Adding AutoShape... \n"
     ]
    },
    {
     "data": {
      "text/html": [
       "<div>\n",
       "<style scoped>\n",
       "    .dataframe tbody tr th:only-of-type {\n",
       "        vertical-align: middle;\n",
       "    }\n",
       "\n",
       "    .dataframe tbody tr th {\n",
       "        vertical-align: top;\n",
       "    }\n",
       "\n",
       "    .dataframe thead th {\n",
       "        text-align: right;\n",
       "    }\n",
       "</style>\n",
       "<table border=\"1\" class=\"dataframe\">\n",
       "  <thead>\n",
       "    <tr style=\"text-align: right;\">\n",
       "      <th></th>\n",
       "      <th>xmin</th>\n",
       "      <th>ymin</th>\n",
       "      <th>xmax</th>\n",
       "      <th>ymax</th>\n",
       "      <th>confidence</th>\n",
       "      <th>class</th>\n",
       "      <th>name</th>\n",
       "    </tr>\n",
       "  </thead>\n",
       "  <tbody>\n",
       "    <tr>\n",
       "      <th>0</th>\n",
       "      <td>177.214844</td>\n",
       "      <td>80.743195</td>\n",
       "      <td>635.927002</td>\n",
       "      <td>466.412048</td>\n",
       "      <td>0.877485</td>\n",
       "      <td>0</td>\n",
       "      <td>Fan</td>\n",
       "    </tr>\n",
       "  </tbody>\n",
       "</table>\n",
       "</div>"
      ],
      "text/plain": [
       "         xmin       ymin        xmax        ymax  confidence  class name\n",
       "0  177.214844  80.743195  635.927002  466.412048    0.877485      0  Fan"
      ]
     },
     "execution_count": 6,
     "metadata": {},
     "output_type": "execute_result"
    }
   ],
   "source": [
    "import torch\n",
    "\n",
    "\n",
    "#model = torch.hub.load('ultralytics/yolov5', 'custom', path='path/to/best.pt')  # local model\n",
    "model = torch.hub.load('/home/USAI001/yolov5', 'custom', path='/home/USAI001/yolov5/weights_FanDetect/Modelyolo5_FanDetect.pt', source='local', device='cpu')  # local repo\n",
    "\n",
    "model.conf = 0.50  # NMS confidence threshold\n",
    "model.iou = 0.50  # NMS IoU threshold\n",
    "model.classes = None   # (optional list) filter by class, i.e. = [0, 15, 16] for persons, cats and dogs\n",
    "model.multi_label = False  # NMS multiple labels per box\n",
    "model.max_det = 1000  # maximum number of detections per image\n",
    "#.cpu()  # CPU\n",
    "\n",
    "# Image\n",
    "imgs = '/home/USAI001/yolov5/test/FanDetect_custom_408.jpg'\n",
    "\n",
    "# Inference\n",
    "results = model(imgs, size=640)  # custom inference size\n",
    "pred = results.pandas().xyxy[0].sort_values('confidence')\n",
    "pred"
   ]
  },
  {
   "cell_type": "code",
   "execution_count": 7,
   "id": "576ff95c",
   "metadata": {},
   "outputs": [
    {
     "name": "stdout",
     "output_type": "stream",
     "text": [
      "0.276898193359375\n",
      "0.12616124153137206\n",
      "0.9936359405517579\n",
      "0.7287688255310059\n"
     ]
    }
   ],
   "source": [
    "# xmin_pre = int((180.839005/640)*image.shape[1])\n",
    "# ymin_pre = int((81.428909/640)*image.shape[0])\n",
    "# xmax_pre = int((626.30426/640)*image.shape[1])\n",
    "# ymax_pre = int((466.075287/640)*image.shape[0])\n",
    "xmin_pre = pred['xmin'][0]/640\n",
    "ymin_pre = pred['ymin'][0]/640\n",
    "xmax_pre = pred['xmax'][0]/640\n",
    "ymax_pre = pred['ymax'][0]/640\n",
    "\n",
    "print(xmin_pre)\n",
    "print(ymin_pre)\n",
    "print(xmax_pre)\n",
    "print(ymax_pre)"
   ]
  },
  {
   "cell_type": "code",
   "execution_count": 8,
   "id": "f3d3eea3",
   "metadata": {},
   "outputs": [
    {
     "data": {
      "text/plain": [
       "<matplotlib.image.AxesImage at 0x7f8b5c4f1880>"
      ]
     },
     "execution_count": 8,
     "metadata": {},
     "output_type": "execute_result"
    }
   ],
   "source": [
    "import numpy as np\n",
    "import cv2\n",
    "from IPython.display import Image\n",
    "from matplotlib import pyplot as plt\n",
    "import matplotlib.pyplot as plt\n",
    "import matplotlib.image as mpimg\n",
    "\n",
    "#res1 = df[df['fileName'] == 'FanDetect_custom_407.jpg'].reset_index(drop=True)\n",
    "\n",
    "#fig 1\n",
    "#img_path1 = imgs\n",
    "#Image(filename=img_path, width=800)\n",
    "img_c1 = cv2.imread(imgs)\n",
    "#plt.imshow(img_c)\n",
    "xmin1 = int(xmin_pre*img_c1.shape[1])\n",
    "ymin1 = int(ymin_pre*img_c1.shape[0])\n",
    "xmax1 = int(xmax_pre*img_c1.shape[1])\n",
    "ymax1 = int(ymax_pre*img_c1.shape[0])\n",
    "image = cv2.rectangle(img_c1, (xmin1, ymin1), (xmax1, ymax1), (0,255,0), 2)\n",
    "\n",
    "plt.imshow(image)"
   ]
  },
  {
   "cell_type": "code",
   "execution_count": 4,
   "id": "d236c47b",
   "metadata": {},
   "outputs": [
    {
     "data": {
      "text/plain": [
       "(600, 800, 3)"
      ]
     },
     "execution_count": 4,
     "metadata": {},
     "output_type": "execute_result"
    }
   ],
   "source": [
    "img_c1.shape"
   ]
  },
  {
   "cell_type": "code",
   "execution_count": 39,
   "id": "92ca142f",
   "metadata": {},
   "outputs": [
    {
     "data": {
      "text/plain": [
       "array([[[32, 23, 20],\n",
       "        [32, 23, 20],\n",
       "        [32, 23, 20],\n",
       "        ...,\n",
       "        [32, 23, 20],\n",
       "        [32, 23, 20],\n",
       "        [32, 23, 20]],\n",
       "\n",
       "       [[32, 23, 20],\n",
       "        [32, 23, 20],\n",
       "        [32, 23, 20],\n",
       "        ...,\n",
       "        [32, 23, 20],\n",
       "        [32, 23, 20],\n",
       "        [32, 23, 20]],\n",
       "\n",
       "       [[32, 23, 20],\n",
       "        [32, 23, 20],\n",
       "        [32, 23, 20],\n",
       "        ...,\n",
       "        [32, 23, 20],\n",
       "        [32, 23, 20],\n",
       "        [32, 23, 20]],\n",
       "\n",
       "       ...,\n",
       "\n",
       "       [[32, 23, 20],\n",
       "        [32, 23, 20],\n",
       "        [32, 23, 20],\n",
       "        ...,\n",
       "        [32, 23, 20],\n",
       "        [32, 23, 20],\n",
       "        [32, 23, 20]],\n",
       "\n",
       "       [[32, 23, 20],\n",
       "        [32, 23, 20],\n",
       "        [32, 23, 20],\n",
       "        ...,\n",
       "        [32, 23, 20],\n",
       "        [32, 23, 20],\n",
       "        [32, 23, 20]],\n",
       "\n",
       "       [[32, 23, 20],\n",
       "        [32, 23, 20],\n",
       "        [32, 23, 20],\n",
       "        ...,\n",
       "        [32, 23, 20],\n",
       "        [32, 23, 20],\n",
       "        [32, 23, 20]]], dtype=uint8)"
      ]
     },
     "execution_count": 39,
     "metadata": {},
     "output_type": "execute_result"
    }
   ],
   "source": [
    "img_c1"
   ]
  },
  {
   "cell_type": "code",
   "execution_count": 4,
   "id": "6e326690",
   "metadata": {},
   "outputs": [
    {
     "name": "stdout",
     "output_type": "stream",
     "text": [
      "Prediction Confidence : 0.8774852156639099\n",
      "\n"
     ]
    },
    {
     "data": {
      "text/plain": [
       "<matplotlib.image.AxesImage at 0x7f315e550d00>"
      ]
     },
     "execution_count": 4,
     "metadata": {},
     "output_type": "execute_result"
    }
   ],
   "source": [
    "print(f\"Prediction Confidence : {pred['confidence'][0]}\\n\")\n",
    "\n",
    "img_c1 = cv2.imread(imgs)\n",
    "#image2 = cv2.rectangle(img_c1, (xmin_pre ,ymin_pre), (xmax_pre, ymax_pre), (255,0,0), 4)\n",
    "plt.imshow(img_c1)"
   ]
  },
  {
   "cell_type": "code",
   "execution_count": null,
   "id": "58657cc2",
   "metadata": {},
   "outputs": [],
   "source": []
  },
  {
   "cell_type": "markdown",
   "id": "6f5cb2a6",
   "metadata": {},
   "source": [
    "> #### TEST API"
   ]
  },
  {
   "cell_type": "code",
   "execution_count": 1,
   "id": "6185d20c",
   "metadata": {},
   "outputs": [],
   "source": [
    "from flask import Flask, render_template, request, redirect, url_for\n",
    "import requests\n",
    "import json\n",
    "import pandas as pd\n",
    "\n",
    "import cv2\n",
    "from IPython.display import Image\n",
    "from matplotlib import pyplot as plt"
   ]
  },
  {
   "cell_type": "code",
   "execution_count": 4,
   "id": "3355a4b5",
   "metadata": {},
   "outputs": [],
   "source": [
    "# path_images = '/home/USAI001/yolov5/test/FanDetect_custom_408.jpg'\n",
    "# pred = requests.post(\"http://20.198.218.137:5006/predictFanDetect\", data={'path_images': path_images})\n",
    "# #result = pred.json()"
   ]
  },
  {
   "cell_type": "code",
   "execution_count": 5,
   "id": "f68e8d9d",
   "metadata": {},
   "outputs": [],
   "source": [
    "#pred"
   ]
  },
  {
   "cell_type": "code",
   "execution_count": null,
   "id": "a1b49311",
   "metadata": {},
   "outputs": [],
   "source": []
  },
  {
   "cell_type": "code",
   "execution_count": null,
   "id": "789aaced",
   "metadata": {},
   "outputs": [],
   "source": []
  },
  {
   "cell_type": "code",
   "execution_count": null,
   "id": "837b9f96",
   "metadata": {},
   "outputs": [],
   "source": []
  },
  {
   "cell_type": "code",
   "execution_count": null,
   "id": "e4923a51",
   "metadata": {},
   "outputs": [],
   "source": []
  },
  {
   "cell_type": "code",
   "execution_count": null,
   "id": "94d1d5a0",
   "metadata": {},
   "outputs": [],
   "source": []
  }
 ],
 "metadata": {
  "kernelspec": {
   "display_name": "yolov5",
   "language": "python",
   "name": "yolov5"
  },
  "language_info": {
   "codemirror_mode": {
    "name": "ipython",
    "version": 3
   },
   "file_extension": ".py",
   "mimetype": "text/x-python",
   "name": "python",
   "nbconvert_exporter": "python",
   "pygments_lexer": "ipython3",
   "version": "3.8.12"
  }
 },
 "nbformat": 4,
 "nbformat_minor": 5
}
